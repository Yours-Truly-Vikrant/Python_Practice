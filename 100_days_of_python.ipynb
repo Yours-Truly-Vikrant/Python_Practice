{
  "nbformat": 4,
  "nbformat_minor": 0,
  "metadata": {
    "colab": {
      "provenance": [],
      "authorship_tag": "ABX9TyMYEvg52QYpms44PzQH2Pll",
      "include_colab_link": true
    },
    "kernelspec": {
      "name": "python3",
      "display_name": "Python 3"
    },
    "language_info": {
      "name": "python"
    }
  },
  "cells": [
    {
      "cell_type": "markdown",
      "metadata": {
        "id": "view-in-github",
        "colab_type": "text"
      },
      "source": [
        "<a href=\"https://colab.research.google.com/github/Yours-Truly-Vikrant/Python_Practice/blob/main/100_days_of_python.ipynb\" target=\"_parent\"><img src=\"https://colab.research.google.com/assets/colab-badge.svg\" alt=\"Open In Colab\"/></a>"
      ]
    },
    {
      "cell_type": "markdown",
      "source": [
        "1st Session\n"
      ],
      "metadata": {
        "id": "bSqrmVEnQ4n0"
      }
    },
    {
      "cell_type": "code",
      "source": [
        "print(\"Hello World\\n Hello World!\")\n",
        "print(\"Hello \"+\"Angela\")\n",
        "print(\"HEllo\"+ \" \" +\"World\")\n",
        "print(\"Day 1 - String Manipulation\\nString concatenation is done with the + sign\")\n",
        "print('e.g. print(\"Hello\" + \"World\")')\n",
        "print((\"New Lines can be created with a backlash and n\"))\n",
        "print(\"Vky\")"
      ],
      "metadata": {
        "colab": {
          "base_uri": "https://localhost:8080/"
        },
        "id": "pTc8p_e1Q8UJ",
        "outputId": "5423a4e7-4db6-46a1-f5dd-1f86718cbda4"
      },
      "execution_count": null,
      "outputs": [
        {
          "output_type": "stream",
          "name": "stdout",
          "text": [
            "Hello World\n",
            " Hello World!\n",
            "Hello Angela\n",
            "HEllo World\n",
            "Day 1 - String Manipulation\n",
            "String concatenation is done with the + sign\n",
            "e.g. print(\"Hello\" + \"World\")\n",
            "New Lines can be created with a backlash and n\n",
            "Vky\n"
          ]
        }
      ]
    },
    {
      "cell_type": "markdown",
      "source": [
        "Second Session\n"
      ],
      "metadata": {
        "id": "ZIaIi1T07_Fc"
      }
    },
    {
      "cell_type": "code",
      "source": [
        "print(\"What is your name?\")"
      ],
      "metadata": {
        "colab": {
          "base_uri": "https://localhost:8080/"
        },
        "id": "nJxrowWV8ApK",
        "outputId": "41a24286-4131-4452-a8c7-db2b49c4e3fb"
      },
      "execution_count": null,
      "outputs": [
        {
          "output_type": "stream",
          "name": "stdout",
          "text": [
            "What is your name?\n"
          ]
        }
      ]
    },
    {
      "cell_type": "code",
      "source": [
        "input(\"What is your name?\")"
      ],
      "metadata": {
        "colab": {
          "base_uri": "https://localhost:8080/",
          "height": 53
        },
        "id": "Rhxbr1Ce8fP4",
        "outputId": "08563a4f-18c6-423b-969b-c79aea324985"
      },
      "execution_count": null,
      "outputs": [
        {
          "name": "stdout",
          "output_type": "stream",
          "text": [
            "What is your name?Angela\n"
          ]
        },
        {
          "output_type": "execute_result",
          "data": {
            "text/plain": [
              "'Angela'"
            ],
            "application/vnd.google.colaboratory.intrinsic+json": {
              "type": "string"
            }
          },
          "metadata": {},
          "execution_count": 2
        }
      ]
    },
    {
      "cell_type": "code",
      "source": [
        "#This is demo of input function\n",
        "#input will get user input in console\n",
        "#then print function will print the word \"Hello\" and user input\n",
        "print('Hello '+input(\"What is your name?\")+\"!\")"
      ],
      "metadata": {
        "colab": {
          "base_uri": "https://localhost:8080/"
        },
        "id": "i69u7Kup8oxy",
        "outputId": "a7588321-81ad-405c-8b45-87ac687cae02"
      },
      "execution_count": null,
      "outputs": [
        {
          "output_type": "stream",
          "name": "stdout",
          "text": [
            "What is your name?Vikrant\n",
            "Hello Vikrant!\n"
          ]
        }
      ]
    },
    {
      "cell_type": "code",
      "source": [
        "#programme for printing the length of our input\n",
        "text=input(\"What is your name?\")\n",
        "print(len(text))\n",
        "\n",
        "#OR\n",
        "#print(len(input(\"What is your name?\")))"
      ],
      "metadata": {
        "colab": {
          "base_uri": "https://localhost:8080/"
        },
        "id": "K7YTmvcS-KOb",
        "outputId": "94cf3650-42f9-41f8-8095-4bdf7015ea47"
      },
      "execution_count": null,
      "outputs": [
        {
          "output_type": "stream",
          "name": "stdout",
          "text": [
            "What is your name?Prerna\n",
            "6\n"
          ]
        }
      ]
    },
    {
      "cell_type": "code",
      "source": [
        "print(len(input(\"What is your name?\")))"
      ],
      "metadata": {
        "colab": {
          "base_uri": "https://localhost:8080/"
        },
        "id": "fllPrVKO-7L1",
        "outputId": "b3faab8b-f19d-421b-de73-921c394e9ff5"
      },
      "execution_count": null,
      "outputs": [
        {
          "output_type": "stream",
          "name": "stdout",
          "text": [
            "What is your name?Bhagyashree\n",
            "11\n"
          ]
        }
      ]
    },
    {
      "cell_type": "code",
      "source": [
        "name=input(\"what is your name?\")\n",
        "length=len(name)\n",
        "print(length)"
      ],
      "metadata": {
        "colab": {
          "base_uri": "https://localhost:8080/"
        },
        "id": "EwrD2EVlHli3",
        "outputId": "f41cf9f6-56a7-47d4-ea52-080600e8f227"
      },
      "execution_count": null,
      "outputs": [
        {
          "output_type": "stream",
          "name": "stdout",
          "text": [
            "what is your name?KokichiMikimoto\n",
            "15\n"
          ]
        }
      ]
    },
    {
      "cell_type": "code",
      "source": [
        "print(\"Welcome to the band name generator.\")\n",
        "city=input(\"Which city did you grow up in?\\n\")\n",
        "pet=input(\"What is the name of the pet?\\n\")\n",
        "print(\"Your band name could be \"+city+\" \"+pet)"
      ],
      "metadata": {
        "colab": {
          "base_uri": "https://localhost:8080/"
        },
        "id": "Q4Kt_vaTLHHS",
        "outputId": "19fcd7e5-9438-46ec-c9bf-e4b34cb15040"
      },
      "execution_count": null,
      "outputs": [
        {
          "output_type": "stream",
          "name": "stdout",
          "text": [
            "Welcome to the band name generator.\n",
            "Which city did you grow up in?\n",
            "Dhule\n",
            "What is the name of the pet?\n",
            "Rusty\n",
            "Your band name could beDhule Rusty\n"
          ]
        }
      ]
    },
    {
      "cell_type": "markdown",
      "source": [
        "Session 3  Data Types"
      ],
      "metadata": {
        "id": "eSXC81ktK1GB"
      }
    },
    {
      "cell_type": "code",
      "source": [
        "#String\n",
        "print(\"Hello\"[0 ])"
      ],
      "metadata": {
        "colab": {
          "base_uri": "https://localhost:8080/"
        },
        "id": "RQ7Iv1bkK2tJ",
        "outputId": "96f50f4f-39ff-4c81-e690-69a6ffb5293f"
      },
      "execution_count": 1,
      "outputs": [
        {
          "output_type": "stream",
          "name": "stdout",
          "text": [
            "H\n"
          ]
        }
      ]
    },
    {
      "cell_type": "code",
      "source": [
        "print(\"123\"+\"456\")"
      ],
      "metadata": {
        "colab": {
          "base_uri": "https://localhost:8080/"
        },
        "id": "4g0s11VLL7Xk",
        "outputId": "08d6f1c8-0f2b-4de2-9539-6366edc134dd"
      },
      "execution_count": 3,
      "outputs": [
        {
          "output_type": "stream",
          "name": "stdout",
          "text": [
            "123456\n"
          ]
        }
      ]
    },
    {
      "cell_type": "code",
      "source": [
        "#Integer\n",
        "print(123+345)"
      ],
      "metadata": {
        "colab": {
          "base_uri": "https://localhost:8080/"
        },
        "id": "jDv8x7suL7qY",
        "outputId": "0fd77302-feac-4d6a-b72a-1ca3ec0f0724"
      },
      "execution_count": 5,
      "outputs": [
        {
          "output_type": "stream",
          "name": "stdout",
          "text": [
            "468\n"
          ]
        }
      ]
    },
    {
      "cell_type": "code",
      "source": [
        "num_char=len(input(\"What is your name?\"))\n",
        "new_num_char=str(num_char)\n",
        "print(\"Your name has \"+new_num_char+\" c haracters.\")"
      ],
      "metadata": {
        "colab": {
          "base_uri": "https://localhost:8080/"
        },
        "id": "TbYZ_sezOi4n",
        "outputId": "cb56666a-9f0a-4173-cb38-69fca6984eef"
      },
      "execution_count": 8,
      "outputs": [
        {
          "output_type": "stream",
          "name": "stdout",
          "text": [
            "What is your name?Vikranbt\n",
            "Your name has 8 characters.\n"
          ]
        }
      ]
    },
    {
      "cell_type": "code",
      "source": [
        "a=float(123)\n",
        "print(type(a))"
      ],
      "metadata": {
        "colab": {
          "base_uri": "https://localhost:8080/"
        },
        "id": "dpW3jGX2P9sr",
        "outputId": "33b7a79e-a102-4b82-fb6a-cd45872175e3"
      },
      "execution_count": 9,
      "outputs": [
        {
          "output_type": "stream",
          "name": "stdout",
          "text": [
            "<class 'float'>\n"
          ]
        }
      ]
    },
    {
      "cell_type": "code",
      "source": [
        "print(78+float(\"100.5 \"))"
      ],
      "metadata": {
        "colab": {
          "base_uri": "https://localhost:8080/"
        },
        "id": "78G6D930QCXK",
        "outputId": "44bd3fbf-013a-48c7-f40d-165225af81fe"
      },
      "execution_count": 10,
      "outputs": [
        {
          "output_type": "stream",
          "name": "stdout",
          "text": [
            "178.5\n"
          ]
        }
      ]
    },
    {
      "cell_type": "code",
      "source": [
        "print(str(70)+str(100))"
      ],
      "metadata": {
        "colab": {
          "base_uri": "https://localhost:8080/"
        },
        "id": "x_BN35O8QLXy",
        "outputId": "425cb959-398b-4910-e157-450d01b72320"
      },
      "execution_count": 11,
      "outputs": [
        {
          "output_type": "stream",
          "name": "stdout",
          "text": [
            "70100\n"
          ]
        }
      ]
    },
    {
      "cell_type": "code",
      "source": [
        "#BMI CALCULATOR\n",
        "height = input(\"enter your height in m: \")\n",
        "weight = input(\"enter your weight in kg: \")\n",
        "# 🚨 Don't change the code above 👆\n",
        "\n",
        "#Write your code below this line 👇\n",
        "a=float(height)\n",
        "b=float(weight)\n",
        "print(int(b/(a*a)))"
      ],
      "metadata": {
        "id": "RpXKp4XqXVIy"
      },
      "execution_count": null,
      "outputs": []
    },
    {
      "cell_type": "code",
      "source": [
        "#EXAMPLE INPUT 39 EXPECTED OUTPUT:3+9=12\n",
        "two_digit_number = input(\"Type a two digit number: \")\n",
        "# 🚨 Don't change the code above 👆\n",
        "\n",
        "####################################\n",
        "#Write your code below this line 👇\n",
        "a=two_digit_number[0]\n",
        "b=two_digit_number[1]\n",
        "print(int(a)+int(b))"
      ],
      "metadata": {
        "id": "jIF8viVaXdal"
      },
      "execution_count": null,
      "outputs": []
    },
    {
      "cell_type": "code",
      "source": [
        "#INPUT A:3, B:5  EXPECTED OUTPUT A:5,B:3\n",
        "\n",
        "a = input(\"a: \")\n",
        "b = input(\"b: \")\n",
        "# 🚨 Don't change the code above 👆\n",
        "\n",
        "####################################\n",
        "#Write your code below this line 👇\n",
        "c=a\n",
        "a=b\n",
        "b=c\n",
        "\n",
        "\n",
        "\n",
        "#Write your code above this line 👆\n",
        "####################################\n",
        "\n",
        "# 🚨 Don't change the code below 👇\n",
        "print(\"a: \" + a)\n",
        "print(\"b: \" + b)\n"
      ],
      "metadata": {
        "id": "F_k0tGbcXnhj"
      },
      "execution_count": null,
      "outputs": []
    },
    {
      "cell_type": "code",
      "source": [
        "print(round(8/3))"
      ],
      "metadata": {
        "colab": {
          "base_uri": "https://localhost:8080/"
        },
        "id": "SlZe-6YNYJ36",
        "outputId": "603c2de6-6c15-4d77-f679-6f1922f5836e"
      },
      "execution_count": 12,
      "outputs": [
        {
          "output_type": "stream",
          "name": "stdout",
          "text": [
            "3\n"
          ]
        }
      ]
    },
    {
      "cell_type": "code",
      "source": [
        "print(round(8/3,2))"
      ],
      "metadata": {
        "colab": {
          "base_uri": "https://localhost:8080/"
        },
        "id": "hpPmmYTHYVog",
        "outputId": "b6977474-95c9-4217-9472-f1fb15f5d8c3"
      },
      "execution_count": 13,
      "outputs": [
        {
          "output_type": "stream",
          "name": "stdout",
          "text": [
            "2.67\n"
          ]
        }
      ]
    },
    {
      "cell_type": "code",
      "source": [
        "score=0\n",
        "score+=1\n",
        "print(score)\n",
        "\n",
        "#We can also use minus, multiplication and division on the similar lines."
      ],
      "metadata": {
        "colab": {
          "base_uri": "https://localhost:8080/"
        },
        "id": "0jkUTPktZHHy",
        "outputId": "d1cf33d6-ca44-40d4-df08-d297a8abc937"
      },
      "execution_count": 14,
      "outputs": [
        {
          "output_type": "stream",
          "name": "stdout",
          "text": [
            "1\n"
          ]
        }
      ]
    },
    {
      "cell_type": "code",
      "source": [
        "#f-String\n",
        "score=0\n",
        "height=1.8\n",
        "isWinning=True\n",
        "#f-String is used to add the different data types together without converting it intot string\n",
        "print(f'your score is {score}, your height is {height}, are you winning {isWinning}')"
      ],
      "metadata": {
        "colab": {
          "base_uri": "https://localhost:8080/"
        },
        "id": "WQ42500DZ1qD",
        "outputId": "e17e0c66-734c-4e19-d273-294bbb9fef4c"
      },
      "execution_count": 17,
      "outputs": [
        {
          "output_type": "stream",
          "name": "stdout",
          "text": [
            "your score is 0, your height is 1.8, are you winning True\n"
          ]
        }
      ]
    },
    {
      "cell_type": "code",
      "source": [
        "#Tip Calculator\n",
        "#If the bill was $150.00, split between 5 people, with 12% tip.\n",
        "\n",
        "#Each person should pay (150.00 / 5) * 1.12 = 33.6\n",
        "#Format the result to 2 decimal places = 33.60\n",
        "\n",
        "#Tip: There are 2 ways to round a number. You might have to do some Googling to solve this.💪\n",
        "\n",
        "#Write your code below this line 👇\n",
        "print(\"Welcome to the tip calculator!\")\n",
        "bill=input(\"What was the total bill? $\")\n",
        "bill=float(bill)\n",
        "tip=input(\"What percentage tip would you like to give? 10,12 or 15?\")\n",
        "tip=int(tip)\n",
        "splitting=input(\"How many people to split the bill? \")\n",
        "splitting=int(splitting)\n",
        "Total_Bill=bill+(bill*tip/100)\n",
        "Bill=round(Total_Bill/splitting,2)\n",
        "print(Bill)"
      ],
      "metadata": {
        "id": "uXlJcxrQaH78"
      },
      "execution_count": null,
      "outputs": []
    },
    {
      "cell_type": "code",
      "source": [],
      "metadata": {
        "id": "ZGyt_DYOf5NJ"
      },
      "execution_count": null,
      "outputs": []
    }
  ]
}