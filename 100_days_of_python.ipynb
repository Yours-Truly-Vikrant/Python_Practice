{
  "nbformat": 4,
  "nbformat_minor": 0,
  "metadata": {
    "colab": {
      "provenance": [],
      "authorship_tag": "ABX9TyNdUt9ksocYIoYbMxFaZqz0",
      "include_colab_link": true
    },
    "kernelspec": {
      "name": "python3",
      "display_name": "Python 3"
    },
    "language_info": {
      "name": "python"
    }
  },
  "cells": [
    {
      "cell_type": "markdown",
      "metadata": {
        "id": "view-in-github",
        "colab_type": "text"
      },
      "source": [
        "<a href=\"https://colab.research.google.com/github/Yours-Truly-Vikrant/Python_Practice/blob/main/100_days_of_python.ipynb\" target=\"_parent\"><img src=\"https://colab.research.google.com/assets/colab-badge.svg\" alt=\"Open In Colab\"/></a>"
      ]
    },
    {
      "cell_type": "markdown",
      "source": [
        "1st Session\n"
      ],
      "metadata": {
        "id": "bSqrmVEnQ4n0"
      }
    },
    {
      "cell_type": "code",
      "source": [
        "print(\"Hello World\\n Hello World!\")\n",
        "print(\"Hello \"+\"Angela\")\n",
        "print(\"HEllo\"+ \" \" +\"World\")\n",
        "print(\"Day 1 - String Manipulation\\nString concatenation is done with the + sign\")\n",
        "print('e.g. print(\"Hello\" + \"World\")')\n",
        "print((\"New Lines can be created with a backlash and n\"))\n",
        "print(\"Vky\")"
      ],
      "metadata": {
        "colab": {
          "base_uri": "https://localhost:8080/"
        },
        "id": "pTc8p_e1Q8UJ",
        "outputId": "5423a4e7-4db6-46a1-f5dd-1f86718cbda4"
      },
      "execution_count": null,
      "outputs": [
        {
          "output_type": "stream",
          "name": "stdout",
          "text": [
            "Hello World\n",
            " Hello World!\n",
            "Hello Angela\n",
            "HEllo World\n",
            "Day 1 - String Manipulation\n",
            "String concatenation is done with the + sign\n",
            "e.g. print(\"Hello\" + \"World\")\n",
            "New Lines can be created with a backlash and n\n",
            "Vky\n"
          ]
        }
      ]
    },
    {
      "cell_type": "markdown",
      "source": [
        "Second Session\n"
      ],
      "metadata": {
        "id": "ZIaIi1T07_Fc"
      }
    },
    {
      "cell_type": "code",
      "source": [
        "print(\"What is your name?\")"
      ],
      "metadata": {
        "colab": {
          "base_uri": "https://localhost:8080/"
        },
        "id": "nJxrowWV8ApK",
        "outputId": "41a24286-4131-4452-a8c7-db2b49c4e3fb"
      },
      "execution_count": 1,
      "outputs": [
        {
          "output_type": "stream",
          "name": "stdout",
          "text": [
            "What is your name?\n"
          ]
        }
      ]
    },
    {
      "cell_type": "code",
      "source": [
        "input(\"What is your name?\")"
      ],
      "metadata": {
        "colab": {
          "base_uri": "https://localhost:8080/",
          "height": 53
        },
        "id": "Rhxbr1Ce8fP4",
        "outputId": "08563a4f-18c6-423b-969b-c79aea324985"
      },
      "execution_count": 2,
      "outputs": [
        {
          "name": "stdout",
          "output_type": "stream",
          "text": [
            "What is your name?Angela\n"
          ]
        },
        {
          "output_type": "execute_result",
          "data": {
            "text/plain": [
              "'Angela'"
            ],
            "application/vnd.google.colaboratory.intrinsic+json": {
              "type": "string"
            }
          },
          "metadata": {},
          "execution_count": 2
        }
      ]
    },
    {
      "cell_type": "code",
      "source": [
        "#This is demo of input function\n",
        "#input will get user input in console\n",
        "#then print function will print the word \"Hello\" and user input\n",
        "print('Hello '+input(\"What is your name?\")+\"!\")"
      ],
      "metadata": {
        "colab": {
          "base_uri": "https://localhost:8080/"
        },
        "id": "i69u7Kup8oxy",
        "outputId": "a7588321-81ad-405c-8b45-87ac687cae02"
      },
      "execution_count": 8,
      "outputs": [
        {
          "output_type": "stream",
          "name": "stdout",
          "text": [
            "What is your name?Vikrant\n",
            "Hello Vikrant!\n"
          ]
        }
      ]
    },
    {
      "cell_type": "code",
      "source": [
        "#programme for printing the length of our input\n",
        "text=input(\"What is your name?\")\n",
        "print(len(text))\n",
        "\n",
        "#OR\n",
        "#print(len(input(\"What is your name?\")))"
      ],
      "metadata": {
        "colab": {
          "base_uri": "https://localhost:8080/"
        },
        "id": "K7YTmvcS-KOb",
        "outputId": "94cf3650-42f9-41f8-8095-4bdf7015ea47"
      },
      "execution_count": 10,
      "outputs": [
        {
          "output_type": "stream",
          "name": "stdout",
          "text": [
            "What is your name?Prerna\n",
            "6\n"
          ]
        }
      ]
    },
    {
      "cell_type": "code",
      "source": [
        "print(len(input(\"What is your name?\")))"
      ],
      "metadata": {
        "colab": {
          "base_uri": "https://localhost:8080/"
        },
        "id": "fllPrVKO-7L1",
        "outputId": "b3faab8b-f19d-421b-de73-921c394e9ff5"
      },
      "execution_count": 15,
      "outputs": [
        {
          "output_type": "stream",
          "name": "stdout",
          "text": [
            "What is your name?Bhagyashree\n",
            "11\n"
          ]
        }
      ]
    },
    {
      "cell_type": "code",
      "source": [
        "name=input(\"what is your name?\")\n",
        "length=len(name)\n",
        "print(length)"
      ],
      "metadata": {
        "colab": {
          "base_uri": "https://localhost:8080/"
        },
        "id": "EwrD2EVlHli3",
        "outputId": "f41cf9f6-56a7-47d4-ea52-080600e8f227"
      },
      "execution_count": 16,
      "outputs": [
        {
          "output_type": "stream",
          "name": "stdout",
          "text": [
            "what is your name?KokichiMikimoto\n",
            "15\n"
          ]
        }
      ]
    },
    {
      "cell_type": "code",
      "source": [
        "print(\"Welcome to the band name generator.\")\n",
        "city=input(\"Which city did you grow up in?\\n\")\n",
        "pet=input(\"What is the name of the pet?\\n\")\n",
        "print(\"Your band name could be \"+city+\" \"+pet)"
      ],
      "metadata": {
        "colab": {
          "base_uri": "https://localhost:8080/"
        },
        "id": "Q4Kt_vaTLHHS",
        "outputId": "19fcd7e5-9438-46ec-c9bf-e4b34cb15040"
      },
      "execution_count": 17,
      "outputs": [
        {
          "output_type": "stream",
          "name": "stdout",
          "text": [
            "Welcome to the band name generator.\n",
            "Which city did you grow up in?\n",
            "Dhule\n",
            "What is the name of the pet?\n",
            "Rusty\n",
            "Your band name could beDhule Rusty\n"
          ]
        }
      ]
    }
  ]
}