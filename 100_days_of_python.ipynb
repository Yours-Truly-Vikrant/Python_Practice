{
  "nbformat": 4,
  "nbformat_minor": 0,
  "metadata": {
    "colab": {
      "provenance": [],
      "authorship_tag": "ABX9TyOddn872q3UGDNNPY9B4VDn",
      "include_colab_link": true
    },
    "kernelspec": {
      "name": "python3",
      "display_name": "Python 3"
    },
    "language_info": {
      "name": "python"
    }
  },
  "cells": [
    {
      "cell_type": "markdown",
      "metadata": {
        "id": "view-in-github",
        "colab_type": "text"
      },
      "source": [
        "<a href=\"https://colab.research.google.com/github/Yours-Truly-Vikrant/Python_Practice/blob/main/100_days_of_python.ipynb\" target=\"_parent\"><img src=\"https://colab.research.google.com/assets/colab-badge.svg\" alt=\"Open In Colab\"/></a>"
      ]
    },
    {
      "cell_type": "markdown",
      "source": [
        "1st Session\n"
      ],
      "metadata": {
        "id": "bSqrmVEnQ4n0"
      }
    },
    {
      "cell_type": "code",
      "source": [
        "print(\"Hello World\\n Hello World!\")\n",
        "print(\"Hello \"+\"Angela\")\n",
        "print(\"HEllo\"+ \" \" +\"World\")\n",
        "print(\"Day 1 - String Manipulation\\nString concatenation is done with the + sign\")\n",
        "print('e.g. print(\"Hello\" + \"World\")')\n",
        "print((\"New Lines can be created with a backlash and n\"))\n",
        "print(\"Vky\")"
      ],
      "metadata": {
        "colab": {
          "base_uri": "https://localhost:8080/"
        },
        "id": "pTc8p_e1Q8UJ",
        "outputId": "90b31d90-1161-49a4-d346-77a5010bb5ba"
      },
      "execution_count": null,
      "outputs": [
        {
          "output_type": "stream",
          "name": "stdout",
          "text": [
            "Hello World\n",
            " Hello World!\n",
            "Hello Angela\n",
            "HEllo World\n",
            "Day 1 - String Manipulation\n",
            "String concatenation is done with the + sign\n",
            "e.g. print(\"Hello\" + \"World\")\n",
            "New Lines can be created with a backlash and n\n",
            "Vky\n"
          ]
        }
      ]
    },
    {
      "cell_type": "markdown",
      "source": [
        "Second Session\n"
      ],
      "metadata": {
        "id": "ZIaIi1T07_Fc"
      }
    },
    {
      "cell_type": "code",
      "source": [
        "print(\"What is your name?\")"
      ],
      "metadata": {
        "colab": {
          "base_uri": "https://localhost:8080/"
        },
        "id": "nJxrowWV8ApK",
        "outputId": "41a24286-4131-4452-a8c7-db2b49c4e3fb"
      },
      "execution_count": null,
      "outputs": [
        {
          "output_type": "stream",
          "name": "stdout",
          "text": [
            "What is your name?\n"
          ]
        }
      ]
    },
    {
      "cell_type": "code",
      "source": [
        "input(\"What is your name?\")"
      ],
      "metadata": {
        "colab": {
          "base_uri": "https://localhost:8080/",
          "height": 53
        },
        "id": "Rhxbr1Ce8fP4",
        "outputId": "08563a4f-18c6-423b-969b-c79aea324985"
      },
      "execution_count": null,
      "outputs": [
        {
          "name": "stdout",
          "output_type": "stream",
          "text": [
            "What is your name?Angela\n"
          ]
        },
        {
          "output_type": "execute_result",
          "data": {
            "text/plain": [
              "'Angela'"
            ],
            "application/vnd.google.colaboratory.intrinsic+json": {
              "type": "string"
            }
          },
          "metadata": {},
          "execution_count": 2
        }
      ]
    },
    {
      "cell_type": "code",
      "source": [
        "#This is demo of input function\n",
        "#input will get user input in console\n",
        "#then print function will print the word \"Hello\" and user input\n",
        "print('Hello '+input(\"What is your name?\")+\"!\")"
      ],
      "metadata": {
        "colab": {
          "base_uri": "https://localhost:8080/"
        },
        "id": "i69u7Kup8oxy",
        "outputId": "a7588321-81ad-405c-8b45-87ac687cae02"
      },
      "execution_count": null,
      "outputs": [
        {
          "output_type": "stream",
          "name": "stdout",
          "text": [
            "What is your name?Vikrant\n",
            "Hello Vikrant!\n"
          ]
        }
      ]
    },
    {
      "cell_type": "code",
      "source": [
        "#programme for printing the length of our input\n",
        "text=input(\"What is your name?\")\n",
        "print(len(text))\n",
        "\n",
        "#OR\n",
        "#print(len(input(\"What is your name?\")))"
      ],
      "metadata": {
        "colab": {
          "base_uri": "https://localhost:8080/"
        },
        "id": "K7YTmvcS-KOb",
        "outputId": "94cf3650-42f9-41f8-8095-4bdf7015ea47"
      },
      "execution_count": null,
      "outputs": [
        {
          "output_type": "stream",
          "name": "stdout",
          "text": [
            "What is your name?Prerna\n",
            "6\n"
          ]
        }
      ]
    },
    {
      "cell_type": "code",
      "source": [
        "print(len(input(\"What is your name?\")))"
      ],
      "metadata": {
        "colab": {
          "base_uri": "https://localhost:8080/"
        },
        "id": "fllPrVKO-7L1",
        "outputId": "b3faab8b-f19d-421b-de73-921c394e9ff5"
      },
      "execution_count": null,
      "outputs": [
        {
          "output_type": "stream",
          "name": "stdout",
          "text": [
            "What is your name?Bhagyashree\n",
            "11\n"
          ]
        }
      ]
    },
    {
      "cell_type": "code",
      "source": [
        "name=input(\"what is your name?\")\n",
        "length=len(name)\n",
        "print(length)"
      ],
      "metadata": {
        "colab": {
          "base_uri": "https://localhost:8080/"
        },
        "id": "EwrD2EVlHli3",
        "outputId": "f41cf9f6-56a7-47d4-ea52-080600e8f227"
      },
      "execution_count": null,
      "outputs": [
        {
          "output_type": "stream",
          "name": "stdout",
          "text": [
            "what is your name?KokichiMikimoto\n",
            "15\n"
          ]
        }
      ]
    },
    {
      "cell_type": "code",
      "source": [
        "print(\"Welcome to the band name generator.\")\n",
        "city=input(\"Which city did you grow up in?\\n\")\n",
        "pet=input(\"What is the name of the pet?\\n\")\n",
        "print(\"Your band name could be \"+city+\" \"+pet)"
      ],
      "metadata": {
        "colab": {
          "base_uri": "https://localhost:8080/"
        },
        "id": "Q4Kt_vaTLHHS",
        "outputId": "19fcd7e5-9438-46ec-c9bf-e4b34cb15040"
      },
      "execution_count": null,
      "outputs": [
        {
          "output_type": "stream",
          "name": "stdout",
          "text": [
            "Welcome to the band name generator.\n",
            "Which city did you grow up in?\n",
            "Dhule\n",
            "What is the name of the pet?\n",
            "Rusty\n",
            "Your band name could beDhule Rusty\n"
          ]
        }
      ]
    },
    {
      "cell_type": "markdown",
      "source": [
        "Session 3  Data Types"
      ],
      "metadata": {
        "id": "eSXC81ktK1GB"
      }
    },
    {
      "cell_type": "code",
      "source": [
        "#String\n",
        "print(\"Hello\"[0])"
      ],
      "metadata": {
        "colab": {
          "base_uri": "https://localhost:8080/"
        },
        "id": "RQ7Iv1bkK2tJ",
        "outputId": "45c3a5cf-a1e7-4855-e88f-e38de1b4d805"
      },
      "execution_count": null,
      "outputs": [
        {
          "output_type": "stream",
          "name": "stdout",
          "text": [
            "H\n"
          ]
        }
      ]
    },
    {
      "cell_type": "code",
      "source": [
        "print(\"123\"+\"456\")"
      ],
      "metadata": {
        "colab": {
          "base_uri": "https://localhost:8080/"
        },
        "id": "4g0s11VLL7Xk",
        "outputId": "08d6f1c8-0f2b-4de2-9539-6366edc134dd"
      },
      "execution_count": null,
      "outputs": [
        {
          "output_type": "stream",
          "name": "stdout",
          "text": [
            "123456\n"
          ]
        }
      ]
    },
    {
      "cell_type": "code",
      "source": [
        "#Integer\n",
        "print(123+345)"
      ],
      "metadata": {
        "colab": {
          "base_uri": "https://localhost:8080/"
        },
        "id": "jDv8x7suL7qY",
        "outputId": "0fd77302-feac-4d6a-b72a-1ca3ec0f0724"
      },
      "execution_count": null,
      "outputs": [
        {
          "output_type": "stream",
          "name": "stdout",
          "text": [
            "468\n"
          ]
        }
      ]
    },
    {
      "cell_type": "code",
      "source": [
        "num_char=len(input(\"What is your name? \"))\n",
        "new_num_char=str(num_char)\n",
        "print(\"Your name has \"+new_num_char+\" characters.\")"
      ],
      "metadata": {
        "colab": {
          "base_uri": "https://localhost:8080/"
        },
        "id": "TbYZ_sezOi4n",
        "outputId": "7019149a-dd56-449a-ef03-c053092b0db7"
      },
      "execution_count": null,
      "outputs": [
        {
          "output_type": "stream",
          "name": "stdout",
          "text": [
            "What is your name?Vikrant\n",
            "Your name has 7 c haracters.\n"
          ]
        }
      ]
    },
    {
      "cell_type": "code",
      "source": [
        "a=float(123)\n",
        "print(type(a))"
      ],
      "metadata": {
        "colab": {
          "base_uri": "https://localhost:8080/"
        },
        "id": "dpW3jGX2P9sr",
        "outputId": "33b7a79e-a102-4b82-fb6a-cd45872175e3"
      },
      "execution_count": null,
      "outputs": [
        {
          "output_type": "stream",
          "name": "stdout",
          "text": [
            "<class 'float'>\n"
          ]
        }
      ]
    },
    {
      "cell_type": "code",
      "source": [
        "print(78+float(\"100.5 \"))"
      ],
      "metadata": {
        "colab": {
          "base_uri": "https://localhost:8080/"
        },
        "id": "78G6D930QCXK",
        "outputId": "44bd3fbf-013a-48c7-f40d-165225af81fe"
      },
      "execution_count": null,
      "outputs": [
        {
          "output_type": "stream",
          "name": "stdout",
          "text": [
            "178.5\n"
          ]
        }
      ]
    },
    {
      "cell_type": "code",
      "source": [
        "print(str(70)+str(100))"
      ],
      "metadata": {
        "colab": {
          "base_uri": "https://localhost:8080/"
        },
        "id": "x_BN35O8QLXy",
        "outputId": "425cb959-398b-4910-e157-450d01b72320"
      },
      "execution_count": null,
      "outputs": [
        {
          "output_type": "stream",
          "name": "stdout",
          "text": [
            "70100\n"
          ]
        }
      ]
    },
    {
      "cell_type": "code",
      "source": [
        "#BMI CALCULATOR\n",
        "height = input(\"enter your height in m: \")\n",
        "weight = input(\"enter your weight in kg: \")\n",
        "# 🚨 Don't change the code above 👆\n",
        "\n",
        "#Write your code below this line 👇\n",
        "a=float(height)\n",
        "b=float(weight)\n",
        "print(\"Your BMI is \",int(b/(a*a)))"
      ],
      "metadata": {
        "id": "RpXKp4XqXVIy",
        "colab": {
          "base_uri": "https://localhost:8080/"
        },
        "outputId": "1d51ffff-a96c-4dd6-aeda-3d92ed36f5e3"
      },
      "execution_count": null,
      "outputs": [
        {
          "output_type": "stream",
          "name": "stdout",
          "text": [
            "enter your height in m: 1.8\n",
            "enter your weight in kg: 80\n",
            "Your BMI is  24\n"
          ]
        }
      ]
    },
    {
      "cell_type": "code",
      "source": [
        "#EXAMPLE INPUT 39 EXPECTED OUTPUT:3+9=12\n",
        "two_digit_number = input(\"Type a two digit number: \")\n",
        "# 🚨 Don't change the code above 👆\n",
        "\n",
        "####################################\n",
        "#Write your code below this line 👇\n",
        "a=two_digit_number[0]\n",
        "b=two_digit_number[1]\n",
        "print(int(a)+int(b))"
      ],
      "metadata": {
        "id": "jIF8viVaXdal"
      },
      "execution_count": null,
      "outputs": []
    },
    {
      "cell_type": "code",
      "source": [
        "#INPUT A:3, B:5  EXPECTED OUTPUT A:5,B:3\n",
        "\n",
        "a = input(\"a: \")\n",
        "b = input(\"b: \")\n",
        "# 🚨 Don't change the code above 👆\n",
        "\n",
        "####################################\n",
        "#Write your code below this line 👇\n",
        "c=a\n",
        "a=b\n",
        "b=c\n",
        "\n",
        "\n",
        "\n",
        "#Write your code above this line 👆\n",
        "####################################\n",
        "\n",
        "# 🚨 Don't change the code below 👇\n",
        "print(\"a: \" + a)\n",
        "print(\"b: \" + b)\n"
      ],
      "metadata": {
        "id": "F_k0tGbcXnhj"
      },
      "execution_count": null,
      "outputs": []
    },
    {
      "cell_type": "code",
      "source": [
        "print(round(8/3))"
      ],
      "metadata": {
        "colab": {
          "base_uri": "https://localhost:8080/"
        },
        "id": "SlZe-6YNYJ36",
        "outputId": "603c2de6-6c15-4d77-f679-6f1922f5836e"
      },
      "execution_count": null,
      "outputs": [
        {
          "output_type": "stream",
          "name": "stdout",
          "text": [
            "3\n"
          ]
        }
      ]
    },
    {
      "cell_type": "code",
      "source": [
        "print(round(8/3,2))"
      ],
      "metadata": {
        "colab": {
          "base_uri": "https://localhost:8080/"
        },
        "id": "hpPmmYTHYVog",
        "outputId": "b6977474-95c9-4217-9472-f1fb15f5d8c3"
      },
      "execution_count": null,
      "outputs": [
        {
          "output_type": "stream",
          "name": "stdout",
          "text": [
            "2.67\n"
          ]
        }
      ]
    },
    {
      "cell_type": "code",
      "source": [
        "score=0\n",
        "score+=1\n",
        "print(score)\n",
        "\n",
        "#We can also use minus, multiplication and division on the similar lines."
      ],
      "metadata": {
        "colab": {
          "base_uri": "https://localhost:8080/"
        },
        "id": "0jkUTPktZHHy",
        "outputId": "d1cf33d6-ca44-40d4-df08-d297a8abc937"
      },
      "execution_count": null,
      "outputs": [
        {
          "output_type": "stream",
          "name": "stdout",
          "text": [
            "1\n"
          ]
        }
      ]
    },
    {
      "cell_type": "code",
      "source": [
        "#f-String\n",
        "score=0\n",
        "height=1.8\n",
        "isWinning=True\n",
        "#f-String is used to add the different data types together without converting it intot string\n",
        "print(f'your score is {score}, your height is {height}, are you winning {isWinning}')"
      ],
      "metadata": {
        "colab": {
          "base_uri": "https://localhost:8080/"
        },
        "id": "WQ42500DZ1qD",
        "outputId": "e17e0c66-734c-4e19-d273-294bbb9fef4c"
      },
      "execution_count": null,
      "outputs": [
        {
          "output_type": "stream",
          "name": "stdout",
          "text": [
            "your score is 0, your height is 1.8, are you winning True\n"
          ]
        }
      ]
    },
    {
      "cell_type": "code",
      "source": [
        "#Tip Calculator\n",
        "#If the bill was $150.00, split between 5 people, with 12% tip.\n",
        "\n",
        "#Each person should pay (150.00 / 5) * 1.12 = 33.6\n",
        "#Format the result to 2 decimal places = 33.60\n",
        "\n",
        "#Tip: There are 2 ways to round a number. You might have to do some Googling to solve this.💪\n",
        "\n",
        "#Write your code below this line 👇\n",
        "print(\"Welcome to the tip calculator!\")\n",
        "bill=input(\"What was the total bill? $\")\n",
        "bill=float(bill)\n",
        "tip=input(\"What percentage tip would you like to give? 10,12 or 15?\")\n",
        "tip=int(tip)\n",
        "splitting=input(\"How many people to split the bill? \")\n",
        "splitting=int(splitting)\n",
        "Total_Bill=bill+(bill*tip/100)\n",
        "Bill=round(Total_Bill/splitting,2)\n",
        "print(\"Bill per person will be \",Bill)"
      ],
      "metadata": {
        "id": "uXlJcxrQaH78",
        "colab": {
          "base_uri": "https://localhost:8080/"
        },
        "outputId": "5e790464-6338-4817-eb36-2cfd46d5dd6e"
      },
      "execution_count": null,
      "outputs": [
        {
          "output_type": "stream",
          "name": "stdout",
          "text": [
            "Welcome to the tip calculator!\n",
            "What was the total bill? $500\n",
            "What percentage tip would you like to give? 10,12 or 15?12\n",
            "How many people to split the bill? 8\n",
            "Bill per person will be  70.0\n"
          ]
        }
      ]
    },
    {
      "cell_type": "markdown",
      "source": [
        "Session 4 Control Flow and Logical Operators"
      ],
      "metadata": {
        "id": "li2luteAYl1j"
      }
    },
    {
      "cell_type": "code",
      "source": [
        "print(\"Welcome to the Rollercoaster!\")\n",
        "height=int(input(\"What is your height in cm?\"))\n",
        "\n",
        "if height>120:   #for including the 120 use >=\n",
        "  print(\"Hooray! You can ride the Rollercoaster!\")\n",
        "else:\n",
        "  print(\"Sorry, you have to grow taller before you can ride.\")"
      ],
      "metadata": {
        "id": "ZGyt_DYOf5NJ",
        "colab": {
          "base_uri": "https://localhost:8080/"
        },
        "outputId": "532cba6d-b9b4-4adc-c91a-b6b579f7b66e"
      },
      "execution_count": null,
      "outputs": [
        {
          "output_type": "stream",
          "name": "stdout",
          "text": [
            "Welcome to the Rollercoaster!\n",
            "What is your height in cm?150\n",
            "Hooray! You can ride the Rollercoaster!\n"
          ]
        }
      ]
    },
    {
      "cell_type": "code",
      "source": [
        "#Exercise to check whether number is even or odd\n",
        "number = int(input(\"Which number do you want to check? \"))\n",
        "\n",
        "#Write your code below this line 👇\n",
        "if number%2==0:\n",
        "    print(\"This is an even number.\")\n",
        "else:\n",
        "    print(\"This is an odd number.\")\n",
        "\n"
      ],
      "metadata": {
        "colab": {
          "base_uri": "https://localhost:8080/"
        },
        "id": "hXeTne3Ta5lL",
        "outputId": "cc531ac0-abbe-4923-b62c-e2e56a719f9b"
      },
      "execution_count": null,
      "outputs": [
        {
          "output_type": "stream",
          "name": "stdout",
          "text": [
            "Which number do you want to check? 88\n",
            "This is an even number.\n"
          ]
        }
      ]
    },
    {
      "cell_type": "code",
      "source": [
        "#Nested Loops\n",
        "print(\"Welcome to the rollercoaster!\")\n",
        "height=int(input(\"What is your height in cm? \"))\n",
        "\n",
        "if height >=120:\n",
        "  print(\"You can ride the rollercoaster!\")\n",
        "  age=int(input(\"What is your age?\"))\n",
        "  if age <=18:\n",
        "    print(\"Please pay $7.\")\n",
        "  else:\n",
        "    print(\"Please pay $12.\")\n",
        "else:\n",
        "  print(\"You cannot ride the rollercoaster :(\")\n"
      ],
      "metadata": {
        "colab": {
          "base_uri": "https://localhost:8080/"
        },
        "id": "ld2ZfYuVdyhk",
        "outputId": "637df9c6-31cb-4a25-b295-abea18741b36"
      },
      "execution_count": null,
      "outputs": [
        {
          "output_type": "stream",
          "name": "stdout",
          "text": [
            "Welcome to the rollercoaster!\n",
            "What is your height in cm? 150\n",
            "You can ride the rollercoaster!\n",
            "What is your age?45\n",
            "Please pay $12.\n"
          ]
        }
      ]
    },
    {
      "cell_type": "code",
      "source": [
        "#Nested elif statements\n",
        "print(\"Welcome to the rollercoaster!\")\n",
        "height=int(input(\"What is your height in cm? \"))\n",
        "\n",
        "if height >=120:\n",
        "  print(\"You can ride the rollercoaster!\")\n",
        "  age=int(input(\"What is your age?\"))\n",
        "  if age <=12:\n",
        "    print(\"Please pay $5.\")\n",
        "  elif age<=18:\n",
        "    print(\"Please pay $7\")\n",
        "  else:\n",
        "    print(\"Please pay $12.\")\n",
        "else:\n",
        "  print(\"You cannot ride the rollercoaster :(\")\n"
      ],
      "metadata": {
        "colab": {
          "base_uri": "https://localhost:8080/"
        },
        "id": "dv0ZeR_zes5h",
        "outputId": "b51ebb71-c9d7-40ce-8c41-2ee9980ea00f"
      },
      "execution_count": null,
      "outputs": [
        {
          "output_type": "stream",
          "name": "stdout",
          "text": [
            "Welcome to the rollercoaster!\n",
            "What is your height in cm? 160\n",
            "You can ride the rollercoaster!\n",
            "What is your age?15\n",
            "Please pay $7\n"
          ]
        }
      ]
    },
    {
      "cell_type": "code",
      "source": [
        "#BMI CALCULATOR\n",
        "height = float(input(\"enter your height in m: \"))\n",
        "weight = float(input(\"enter your weight in kg: \"))\n",
        "# 🚨 Don't change the code above 👆\n",
        "\n",
        "#Write your code below this line 👇\n",
        "BMI=round(weight/(height*height))\n",
        "\n",
        "if BMI<18.5:\n",
        "    print(f'Your BMI is {BMI}, you are underweight.')\n",
        "elif 18.5<=BMI<25:\n",
        "    print(f'Your BMI is {BMI}, you have a normal weight.')\n",
        "elif 25<=BMI<30:\n",
        "    print(f'Your BMI is {BMI}, you are slightly overweight.')\n",
        "elif 30<=BMI<35:\n",
        "    print(f'Your BMI is {BMI}, you are obese.')\n",
        "else:\n",
        "    print(f'Your BMI is {BMI}, you are clinically obese.')"
      ],
      "metadata": {
        "id": "XJgGOuPbhq7b"
      },
      "execution_count": null,
      "outputs": []
    },
    {
      "cell_type": "code",
      "source": [
        "#Leap year calculator using elif statement of nested loop.\n",
        "year = int(input(\"Which year do you want to check? \"))\n",
        "# 🚨 Don't change the code above 👆\n",
        "\n",
        "#Write your code below this line 👇\n",
        "if year%4==0:\n",
        "    if year%400==0:\n",
        "        print(\"Leap year.\")\n",
        "    elif year%100==0:\n",
        "        print(\"Not leap year.\")\n",
        "    else:\n",
        "        print(\"Leap year.\")\n",
        "\n",
        "else:\n",
        "    print(\"Not leap year.\")\n"
      ],
      "metadata": {
        "id": "Zj4xhfrxhq8m"
      },
      "execution_count": null,
      "outputs": []
    },
    {
      "cell_type": "code",
      "source": [
        "print(\"Welcome to the Rollercoaster!\")\n",
        "height=int(input(\"What is your height in cm? \"))\n",
        "bill=0\n",
        "if height >= 120:\n",
        "  print(\"You can ride the rollercoaster!\")\n",
        "  age=int(input(\"What is your age? \"))\n",
        "  if age<12:\n",
        "    bill=5\n",
        "    print(\"Please pay %5.\")\n",
        "  elif age<=18:\n",
        "    bill=7\n",
        "    print(\"Please pay $7.\")\n",
        "  else:\n",
        "    bill=12\n",
        "    print(\"Please Pay $12.\")\n",
        "\n",
        "\n",
        "  photo=input(\"Do you want a photo taken? Y or N.\")\n",
        "  if photo ==\"Y\":\n",
        "    bill+=3\n",
        "\n",
        "\n",
        "  print(f\"Your final bill is {bill} $\")\n",
        "\n",
        "else:\n",
        "  print(\"Sorry, You have to be bit taller.\")"
      ],
      "metadata": {
        "colab": {
          "base_uri": "https://localhost:8080/"
        },
        "id": "8xaomHmPmBhj",
        "outputId": "9c3b852e-b654-455c-a2f1-d6edb1db0156"
      },
      "execution_count": 4,
      "outputs": [
        {
          "output_type": "stream",
          "name": "stdout",
          "text": [
            "Welcome to the Rollercoaster!\n",
            "What is your height in cm? 150\n",
            "You can ride the rollercoaster!\n",
            "What is your age? 12\n",
            "Please pay $7.\n",
            "Do you want a photo taken? Y or N.Y\n",
            "Your final bill is 10\n"
          ]
        }
      ]
    },
    {
      "cell_type": "code",
      "source": [
        "#PIZZA BILL GENERATOR\n",
        "print(\"Welcome to Python Pizza Deliveries!\")\n",
        "size = input(\"What size pizza do you want? S, M, or L \")\n",
        "add_pepperoni = input(\"Do you want pepperoni? Y or N \")\n",
        "extra_cheese = input(\"Do you want extra cheese? Y or N \")\n",
        "# 🚨 Don't change the code above 👆\n",
        "\n",
        "#Write your code below this line 👇\n",
        "bill=0\n",
        "if size==\"S\":\n",
        "    bill=15\n",
        "    if add_pepperoni==\"Y\":\n",
        "        bill+=2\n",
        "    if extra_cheese==\"Y\":\n",
        "        bill+=1\n",
        "\n",
        "    print(f\"Your final bill is: ${bill}.\")\n",
        "elif size==\"M\":\n",
        "    bill=20\n",
        "    if add_pepperoni==\"Y\":\n",
        "        bill+=3\n",
        "    if extra_cheese==\"Y\":\n",
        "        bill+=1\n",
        "\n",
        "    print(f\"Your final bill is: ${bill}.\")\n",
        "elif size==\"L\":\n",
        "    bill=25\n",
        "    if add_pepperoni==\"Y\":\n",
        "        bill+=3\n",
        "    if extra_cheese==\"Y\":\n",
        "        bill+=1\n",
        "\n",
        "    print(f\"Your final bill is: ${bill}.\")\n",
        "\n",
        "\n",
        "\n"
      ],
      "metadata": {
        "id": "_bRM7jR0rzCY"
      },
      "execution_count": null,
      "outputs": []
    },
    {
      "cell_type": "code",
      "source": [
        "#or\n",
        "print(\"Welcome to Python Pizza Deliveries!\")\n",
        "size = input(\"What size pizza do you want? S, M, or L \")\n",
        "add_pepperoni = input(\"Do you want pepperoni? Y or N \")\n",
        "extra_cheese = input(\"Do you want extra cheese? Y or N \")\n",
        "# 🚨 Don't change the code above 👆\n",
        "\n",
        "#Write your code below this line 👇\n",
        "bill=0\n",
        "if size==\"S\":\n",
        "  bill+=15\n",
        "elif size==\"M\":\n",
        "  bill+=20\n",
        "else:\n",
        "  bill+=25\n",
        "\n",
        "if add_pepperoni==\"Y\":\n",
        "  if size==\"S\":\n",
        "    bill+=2\n",
        "  else:\n",
        "    bill+=3\n",
        "\n",
        "if extra_cheese==\"Y\":\n",
        "  bill+=1\n",
        "\n",
        "print(f\"Your final bill is ${bill}.\")"
      ],
      "metadata": {
        "colab": {
          "base_uri": "https://localhost:8080/"
        },
        "id": "ShJg01-UsXP_",
        "outputId": "53164450-544b-4754-e730-6add31db637b"
      },
      "execution_count": 7,
      "outputs": [
        {
          "output_type": "stream",
          "name": "stdout",
          "text": [
            "Welcome to Python Pizza Deliveries!\n",
            "What size pizza do you want? S, M, or L S\n",
            "Do you want pepperoni? Y or N Y\n",
            "Do you want extra cheese? Y or N N\n",
            "Your final bill is $17.\n"
          ]
        }
      ]
    },
    {
      "cell_type": "code",
      "source": [
        "#Love Calculator\n",
        "# 🚨 Don't change the code below 👇\n",
        "print(\"Welcome to the Love Calculator!\")\n",
        "name1 = input(\"What is your name? \\n\")\n",
        "name2 = input(\"What is their name? \\n\")\n",
        "# 🚨 Don't change the code above 👆\n",
        "\n",
        "#Write your code below this line 👇\n",
        "name1=name1.lower()\n",
        "name2=name2.lower()\n",
        "name=name1+name2  #or name=name1.lower()+name2.lower()\n",
        "t=name.count(\"t\")\n",
        "r=name.count(\"r\")\n",
        "u=name.count(\"u\")\n",
        "e=name.count(\"e\")\n",
        "true=t+r+u+e\n",
        "l=name.count(\"l\")\n",
        "o=name.count(\"o\")\n",
        "v=name.count(\"v\")\n",
        "ee=name.count(\"e\")\n",
        "love=l+o+v+ee\n",
        "score=str(true)+str(love)\n",
        "score=int(score)\n",
        "\n",
        "if score<10 or score>90:\n",
        "    print(f'\"Your score is {score}, you go together like coke and mentos.\"')\n",
        "elif score>40 and score<50:\n",
        "    print(f'\"Your score is {score}, you are alright together.\"')\n",
        "else:\n",
        "    print(f'\"Your score is {score}.\"')\n"
      ],
      "metadata": {
        "colab": {
          "base_uri": "https://localhost:8080/"
        },
        "id": "bXZGRYxO1oIZ",
        "outputId": "2423f661-68cc-42bf-899f-f24af446b001"
      },
      "execution_count": 11,
      "outputs": [
        {
          "output_type": "stream",
          "name": "stdout",
          "text": [
            "Welcome to the Love Calculator!\n",
            "What is your name? \n",
            "Vikrant\n",
            "What is their name? \n",
            "Chaitali\n",
            "\"Your score is 32.\"\n"
          ]
        }
      ]
    }
  ]
}