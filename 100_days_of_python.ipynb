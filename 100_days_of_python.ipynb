{
  "nbformat": 4,
  "nbformat_minor": 0,
  "metadata": {
    "colab": {
      "provenance": [],
      "authorship_tag": "ABX9TyMtnW3RbqrAt4BnmM3nvWDc",
      "include_colab_link": true
    },
    "kernelspec": {
      "name": "python3",
      "display_name": "Python 3"
    },
    "language_info": {
      "name": "python"
    }
  },
  "cells": [
    {
      "cell_type": "markdown",
      "metadata": {
        "id": "view-in-github",
        "colab_type": "text"
      },
      "source": [
        "<a href=\"https://colab.research.google.com/github/Yours-Truly-Vikrant/Python_Practice/blob/main/100_days_of_python.ipynb\" target=\"_parent\"><img src=\"https://colab.research.google.com/assets/colab-badge.svg\" alt=\"Open In Colab\"/></a>"
      ]
    },
    {
      "cell_type": "markdown",
      "source": [
        "1st Session\n"
      ],
      "metadata": {
        "id": "bSqrmVEnQ4n0"
      }
    },
    {
      "cell_type": "code",
      "source": [
        "print(\"Hello World\\nHello World!\")\n",
        "print(\"Hello \"+\"Angela\")\n",
        "print(\"HEllo\"+ \" \" +\"World\")\n",
        "print(\"Day 1 - String Manipulation\\nString concatenation is done with the + sign\")\n",
        "print('e.g. print(\"Hello\" + \"World\")')\n",
        "print((\"New Lines can be created with a backlash and n\"))\n",
        "print(\"Vky\")"
      ],
      "metadata": {
        "colab": {
          "base_uri": "https://localhost:8080/"
        },
        "id": "pTc8p_e1Q8UJ",
        "outputId": "7c57127c-1bbe-4ec5-e862-ef3ae3c986ea"
      },
      "execution_count": null,
      "outputs": [
        {
          "output_type": "stream",
          "name": "stdout",
          "text": [
            "Hello World\n",
            "Hello World!\n",
            "Hello Angela\n",
            "HEllo World\n",
            "Day 1 - String Manipulation\n",
            "String concatenation is done with the + sign\n",
            "e.g. print(\"Hello\" + \"World\")\n",
            "New Lines can be created with a backlash and n\n",
            "Vky\n"
          ]
        }
      ]
    },
    {
      "cell_type": "markdown",
      "source": [
        "Second Session\n"
      ],
      "metadata": {
        "id": "ZIaIi1T07_Fc"
      }
    },
    {
      "cell_type": "code",
      "source": [
        "print(\"What is your name?\")"
      ],
      "metadata": {
        "colab": {
          "base_uri": "https://localhost:8080/"
        },
        "id": "nJxrowWV8ApK",
        "outputId": "843faafc-e7ac-465e-fe4b-fb54abf8b092"
      },
      "execution_count": null,
      "outputs": [
        {
          "output_type": "stream",
          "name": "stdout",
          "text": [
            "What is your name?\n"
          ]
        }
      ]
    },
    {
      "cell_type": "code",
      "source": [
        "input(\"What is your name? \")"
      ],
      "metadata": {
        "colab": {
          "base_uri": "https://localhost:8080/",
          "height": 53
        },
        "id": "Rhxbr1Ce8fP4",
        "outputId": "eedf21c7-f14d-443f-de9e-e438a7f93857"
      },
      "execution_count": null,
      "outputs": [
        {
          "name": "stdout",
          "output_type": "stream",
          "text": [
            "What is your name? Vikrant\n"
          ]
        },
        {
          "output_type": "execute_result",
          "data": {
            "text/plain": [
              "'Vikrant'"
            ],
            "application/vnd.google.colaboratory.intrinsic+json": {
              "type": "string"
            }
          },
          "metadata": {},
          "execution_count": 4
        }
      ]
    },
    {
      "cell_type": "code",
      "source": [
        "#This is demo of input function\n",
        "#input will get user input in console\n",
        "#then print function will print the word \"Hello\" and user input\n",
        "print('Hello '+input(\"What is your name?\")+\"!\")"
      ],
      "metadata": {
        "colab": {
          "base_uri": "https://localhost:8080/"
        },
        "id": "i69u7Kup8oxy",
        "outputId": "4be727c0-f245-4769-a0c6-698253606dcc"
      },
      "execution_count": null,
      "outputs": [
        {
          "output_type": "stream",
          "name": "stdout",
          "text": [
            "What is your name?Nikam\n",
            "Hello Nikam!\n"
          ]
        }
      ]
    },
    {
      "cell_type": "code",
      "source": [
        "#programme for printing the length of our input\n",
        "text=input(\"What is your name?\")\n",
        "print(len(text))\n",
        "\n",
        "#OR\n",
        "#print(len(input(\"What is your name?\")))"
      ],
      "metadata": {
        "colab": {
          "base_uri": "https://localhost:8080/"
        },
        "id": "K7YTmvcS-KOb",
        "outputId": "0ec7c81a-8315-4b06-f1cd-a5f6bf7a01bb"
      },
      "execution_count": null,
      "outputs": [
        {
          "output_type": "stream",
          "name": "stdout",
          "text": [
            "What is your name?Nikam\n",
            "5\n"
          ]
        }
      ]
    },
    {
      "cell_type": "code",
      "source": [
        "print(len(input(\"What is your name? \")))"
      ],
      "metadata": {
        "colab": {
          "base_uri": "https://localhost:8080/"
        },
        "id": "fllPrVKO-7L1",
        "outputId": "df891a48-17e6-458b-abd7-795fcc350c87"
      },
      "execution_count": null,
      "outputs": [
        {
          "output_type": "stream",
          "name": "stdout",
          "text": [
            "What is your name? Niranjan\n",
            "8\n"
          ]
        }
      ]
    },
    {
      "cell_type": "code",
      "source": [
        "name=input(\"what is your name?\")\n",
        "length=len(name)\n",
        "print(length)"
      ],
      "metadata": {
        "colab": {
          "base_uri": "https://localhost:8080/"
        },
        "id": "EwrD2EVlHli3",
        "outputId": "5c16669f-3e7d-462a-abd4-3a14842f5be0"
      },
      "execution_count": null,
      "outputs": [
        {
          "output_type": "stream",
          "name": "stdout",
          "text": [
            "what is your name?nikam v\n",
            "7\n",
            "<class 'NoneType'>\n"
          ]
        }
      ]
    },
    {
      "cell_type": "code",
      "source": [
        "print(\"Welcome to the band name generator.\")\n",
        "city=input(\"Which city did you grow up in?\\n\")\n",
        "pet=input(\"What is the name of the pet?\\n\")\n",
        "print(\"Your band name could be \"+city+\" \"+pet)"
      ],
      "metadata": {
        "colab": {
          "base_uri": "https://localhost:8080/"
        },
        "id": "Q4Kt_vaTLHHS",
        "outputId": "92ac92df-75e6-49bf-fed2-a8d530234ff5"
      },
      "execution_count": null,
      "outputs": [
        {
          "output_type": "stream",
          "name": "stdout",
          "text": [
            "Welcome to the band name generator.\n",
            "Which city did you grow up in?\n",
            "Dhule\n",
            "What is the name of the pet?\n",
            "Radha\n",
            "Your band name could be Dhule Radha\n"
          ]
        }
      ]
    },
    {
      "cell_type": "markdown",
      "source": [
        "Session 3  Data Types"
      ],
      "metadata": {
        "id": "eSXC81ktK1GB"
      }
    },
    {
      "cell_type": "code",
      "source": [
        "#String\n",
        "print(\"Hello\"[0])"
      ],
      "metadata": {
        "colab": {
          "base_uri": "https://localhost:8080/"
        },
        "id": "RQ7Iv1bkK2tJ",
        "outputId": "dc610a79-c16e-4cd0-e234-5fb4b6c079b4"
      },
      "execution_count": null,
      "outputs": [
        {
          "output_type": "stream",
          "name": "stdout",
          "text": [
            "H\n"
          ]
        }
      ]
    },
    {
      "cell_type": "code",
      "source": [
        "print(\"123\"+\"456\")"
      ],
      "metadata": {
        "colab": {
          "base_uri": "https://localhost:8080/"
        },
        "id": "4g0s11VLL7Xk",
        "outputId": "d22aa09b-b900-4de7-8af4-af346b7f7e8e"
      },
      "execution_count": null,
      "outputs": [
        {
          "output_type": "stream",
          "name": "stdout",
          "text": [
            "123456\n"
          ]
        }
      ]
    },
    {
      "cell_type": "code",
      "source": [
        "#Integer\n",
        "print(123+345)"
      ],
      "metadata": {
        "colab": {
          "base_uri": "https://localhost:8080/"
        },
        "id": "jDv8x7suL7qY",
        "outputId": "7f7dd66a-8a25-4175-b91a-7bf860b40e96"
      },
      "execution_count": null,
      "outputs": [
        {
          "output_type": "stream",
          "name": "stdout",
          "text": [
            "468\n"
          ]
        }
      ]
    },
    {
      "cell_type": "code",
      "source": [
        "num_char=len(input(\"What is your name? \"))\n",
        "new_num_char=str(num_char)\n",
        "print(\"Your name has \"+new_num_char+\" characters.\")"
      ],
      "metadata": {
        "colab": {
          "base_uri": "https://localhost:8080/"
        },
        "id": "TbYZ_sezOi4n",
        "outputId": "692ba820-478c-4886-93c8-19ec473b22d8"
      },
      "execution_count": null,
      "outputs": [
        {
          "output_type": "stream",
          "name": "stdout",
          "text": [
            "What is your name? Nikam Vikrant D\n",
            "Your name has 15 characters.\n"
          ]
        }
      ]
    },
    {
      "cell_type": "code",
      "source": [
        "a=float(123)\n",
        "print(type(a))"
      ],
      "metadata": {
        "colab": {
          "base_uri": "https://localhost:8080/"
        },
        "id": "dpW3jGX2P9sr",
        "outputId": "14c3d0db-152a-47a1-be0b-3bb11344b292"
      },
      "execution_count": null,
      "outputs": [
        {
          "output_type": "stream",
          "name": "stdout",
          "text": [
            "<class 'float'>\n"
          ]
        }
      ]
    },
    {
      "cell_type": "code",
      "source": [
        "print(78+float(\"100.5 \"))"
      ],
      "metadata": {
        "colab": {
          "base_uri": "https://localhost:8080/"
        },
        "id": "78G6D930QCXK",
        "outputId": "f8b37c09-5184-4242-dfad-bbf405bc80b8"
      },
      "execution_count": null,
      "outputs": [
        {
          "output_type": "stream",
          "name": "stdout",
          "text": [
            "178.5\n"
          ]
        }
      ]
    },
    {
      "cell_type": "code",
      "source": [
        "print(str(70)+str(100))"
      ],
      "metadata": {
        "colab": {
          "base_uri": "https://localhost:8080/"
        },
        "id": "x_BN35O8QLXy",
        "outputId": "67eae874-5656-4b5f-dc95-5f9e8894f401"
      },
      "execution_count": null,
      "outputs": [
        {
          "output_type": "stream",
          "name": "stdout",
          "text": [
            "70100\n"
          ]
        }
      ]
    },
    {
      "cell_type": "code",
      "source": [
        "#BMI CALCULATOR\n",
        "height = input(\"enter your height in m: \")\n",
        "weight = input(\"enter your weight in kg: \")\n",
        "# 🚨 Don't change the code above 👆\n",
        "\n",
        "#Write your code below this line 👇\n",
        "a=float(height)\n",
        "b=float(weight)\n",
        "print(\"Your BMI is \",int(b/(a*a)))"
      ],
      "metadata": {
        "id": "RpXKp4XqXVIy",
        "colab": {
          "base_uri": "https://localhost:8080/"
        },
        "outputId": "cf7c5175-393d-4a58-ba41-48bea327d396"
      },
      "execution_count": 1,
      "outputs": [
        {
          "output_type": "stream",
          "name": "stdout",
          "text": [
            "enter your height in m: 1.72\n",
            "enter your weight in kg: 80\n",
            "Your BMI is  27\n"
          ]
        }
      ]
    },
    {
      "cell_type": "code",
      "source": [
        "#EXAMPLE INPUT 39 EXPECTED OUTPUT:3+9=12\n",
        "two_digit_number = input(\"Type a two digit number: \")\n",
        "# 🚨 Don't change the code above 👆\n",
        "\n",
        "####################################\n",
        "#Write your code below this line 👇\n",
        "a=two_digit_number[0]\n",
        "b=two_digit_number[1]\n",
        "print(int(a)+int(b))"
      ],
      "metadata": {
        "id": "jIF8viVaXdal",
        "colab": {
          "base_uri": "https://localhost:8080/"
        },
        "outputId": "490b09df-487d-471e-d9d1-3f8a7c40d811"
      },
      "execution_count": 2,
      "outputs": [
        {
          "output_type": "stream",
          "name": "stdout",
          "text": [
            "Type a two digit number: 25\n",
            "7\n"
          ]
        }
      ]
    },
    {
      "cell_type": "code",
      "source": [
        "#INPUT A:3, B:5  EXPECTED OUTPUT A:5,B:3\n",
        "\n",
        "a = input(\"a: \")\n",
        "b = input(\"b: \")\n",
        "# 🚨 Don't change the code above 👆\n",
        "\n",
        "####################################\n",
        "#Write your code below this line 👇\n",
        "c=a\n",
        "a=b\n",
        "b=c\n",
        "\n",
        "\n",
        "\n",
        "#Write your code above this line 👆\n",
        "####################################\n",
        "\n",
        "# 🚨 Don't change the code below 👇\n",
        "print(\"a: \" + a)\n",
        "print(\"b: \" + b)\n"
      ],
      "metadata": {
        "id": "F_k0tGbcXnhj",
        "colab": {
          "base_uri": "https://localhost:8080/"
        },
        "outputId": "8cbf0ed4-a0f3-4c35-9817-88b17f263978"
      },
      "execution_count": null,
      "outputs": [
        {
          "output_type": "stream",
          "name": "stdout",
          "text": [
            "a: 5\n",
            "b: 7\n",
            "a: 7\n",
            "b: 5\n"
          ]
        }
      ]
    },
    {
      "cell_type": "code",
      "source": [
        "print(round(8/3))"
      ],
      "metadata": {
        "colab": {
          "base_uri": "https://localhost:8080/"
        },
        "id": "SlZe-6YNYJ36",
        "outputId": "3fcc68b4-6bc6-443e-8084-fa4ca803b157"
      },
      "execution_count": null,
      "outputs": [
        {
          "output_type": "stream",
          "name": "stdout",
          "text": [
            "3\n"
          ]
        }
      ]
    },
    {
      "cell_type": "code",
      "source": [
        "print(round(8/3,2))"
      ],
      "metadata": {
        "colab": {
          "base_uri": "https://localhost:8080/"
        },
        "id": "hpPmmYTHYVog",
        "outputId": "dea3ebde-5958-4ef3-96ad-c09fc304846e"
      },
      "execution_count": null,
      "outputs": [
        {
          "output_type": "stream",
          "name": "stdout",
          "text": [
            "2.67\n"
          ]
        }
      ]
    },
    {
      "cell_type": "code",
      "source": [
        "score=0\n",
        "score+=1\n",
        "print(score)\n",
        "\n",
        "#We can also use minus, multiplication and division on the similar lines."
      ],
      "metadata": {
        "colab": {
          "base_uri": "https://localhost:8080/"
        },
        "id": "0jkUTPktZHHy",
        "outputId": "dd2816d4-ffdc-4dd6-ec7d-675c57848093"
      },
      "execution_count": 3,
      "outputs": [
        {
          "output_type": "stream",
          "name": "stdout",
          "text": [
            "1\n"
          ]
        }
      ]
    },
    {
      "cell_type": "code",
      "source": [
        "#f-String\n",
        "score=0\n",
        "height=1.8\n",
        "isWinning=True\n",
        "#f-String is used to add the different data types together without converting it into string\n",
        "print(f'your score is {score}, your height is {height}, are you winning {isWinning}')"
      ],
      "metadata": {
        "colab": {
          "base_uri": "https://localhost:8080/"
        },
        "id": "WQ42500DZ1qD",
        "outputId": "d94a973b-e915-44c2-be0c-72e55a1552b4"
      },
      "execution_count": 4,
      "outputs": [
        {
          "output_type": "stream",
          "name": "stdout",
          "text": [
            "your score is 0, your height is 1.8, are you winning True\n"
          ]
        }
      ]
    },
    {
      "cell_type": "code",
      "source": [
        "#Tip Calculator\n",
        "#If the bill was $150.00, split between 5 people, with 12% tip.\n",
        "\n",
        "#Each person should pay (150.00 / 5) * 1.12 = 33.6\n",
        "#Format the result to 2 decimal places = 33.60\n",
        "\n",
        "#Tip: There are 2 ways to round a number. You might have to do some Googling to solve this.💪\n",
        "\n",
        "#Write your code below this line 👇\n",
        "print(\"Welcome to the tip calculator!\")\n",
        "bill=input(\"What was the total bill? $\")\n",
        "bill=float(bill)\n",
        "tip=input(\"What percentage tip would you like to give? 10,12 or 15?\")\n",
        "tip=int(tip)\n",
        "splitting=input(\"How many people to split the bill? \")\n",
        "splitting=int(splitting)\n",
        "Total_Bill=bill+(bill*tip/100)\n",
        "Bill=round(Total_Bill/splitting,2)\n",
        "print(\"Bill per person will be \",Bill)"
      ],
      "metadata": {
        "id": "uXlJcxrQaH78",
        "colab": {
          "base_uri": "https://localhost:8080/"
        },
        "outputId": "4c5361d5-76ef-4ef5-e29f-bc9c1574253a"
      },
      "execution_count": 5,
      "outputs": [
        {
          "output_type": "stream",
          "name": "stdout",
          "text": [
            "Welcome to the tip calculator!\n",
            "What was the total bill? $150\n",
            "What percentage tip would you like to give? 10,12 or 15?10\n",
            "How many people to split the bill? 5\n",
            "Bill per person will be  33.0\n"
          ]
        }
      ]
    },
    {
      "cell_type": "markdown",
      "source": [
        "Session 4 Control Flow and Logical Operators"
      ],
      "metadata": {
        "id": "li2luteAYl1j"
      }
    },
    {
      "cell_type": "code",
      "source": [
        "print(\"Welcome to the Rollercoaster!\")\n",
        "height=int(input(\"What is your height in cm?\"))\n",
        "\n",
        "if height>120:   #for including the 120 use >=\n",
        "  print(\"Hooray! You can ride the Rollercoaster!\")\n",
        "else:\n",
        "  print(\"Sorry, you have to grow taller before you can ride.\")"
      ],
      "metadata": {
        "id": "ZGyt_DYOf5NJ",
        "colab": {
          "base_uri": "https://localhost:8080/"
        },
        "outputId": "1fea7035-5a52-4d11-b20c-c31e4bc6edaa"
      },
      "execution_count": 6,
      "outputs": [
        {
          "output_type": "stream",
          "name": "stdout",
          "text": [
            "Welcome to the Rollercoaster!\n",
            "What is your height in cm?152\n",
            "Hooray! You can ride the Rollercoaster!\n"
          ]
        }
      ]
    },
    {
      "cell_type": "code",
      "source": [
        "#Exercise to check whether number is even or odd\n",
        "number = int(input(\"Which number do you want to check? \"))\n",
        "\n",
        "#Write your code below this line 👇\n",
        "if number%2==0:\n",
        "    print(\"This is an even number.\")\n",
        "else:\n",
        "    print(\"This is an odd number.\")\n",
        "\n"
      ],
      "metadata": {
        "colab": {
          "base_uri": "https://localhost:8080/"
        },
        "id": "hXeTne3Ta5lL",
        "outputId": "29521fd6-2633-48e3-b0b1-ea00e83db02b"
      },
      "execution_count": 7,
      "outputs": [
        {
          "output_type": "stream",
          "name": "stdout",
          "text": [
            "Which number do you want to check? 5\n",
            "This is an odd number.\n"
          ]
        }
      ]
    },
    {
      "cell_type": "code",
      "source": [
        "#Nested Loops\n",
        "print(\"Welcome to the rollercoaster!\")\n",
        "height=int(input(\"What is your height in cm? \"))\n",
        "\n",
        "if height >=120:\n",
        "  print(\"You can ride the rollercoaster!\")\n",
        "  age=int(input(\"What is your age?\"))\n",
        "  if age <=18:\n",
        "    print(\"Please pay $7.\")\n",
        "  else:\n",
        "    print(\"Please pay $12.\")\n",
        "else:\n",
        "  print(\"You cannot ride the rollercoaster :(\")\n"
      ],
      "metadata": {
        "colab": {
          "base_uri": "https://localhost:8080/"
        },
        "id": "ld2ZfYuVdyhk",
        "outputId": "03249c64-041c-44fb-8097-dc97ade2ddb5"
      },
      "execution_count": 8,
      "outputs": [
        {
          "output_type": "stream",
          "name": "stdout",
          "text": [
            "Welcome to the rollercoaster!\n",
            "What is your height in cm? 152\n",
            "You can ride the rollercoaster!\n",
            "What is your age?22\n",
            "Please pay $12.\n"
          ]
        }
      ]
    },
    {
      "cell_type": "code",
      "source": [
        "#Nested elif statements\n",
        "print(\"Welcome to the rollercoaster!\")\n",
        "height=int(input(\"What is your height in cm? \"))\n",
        "\n",
        "if height >=120:\n",
        "  print(\"You can ride the rollercoaster!\")\n",
        "  age=int(input(\"What is your age?\"))\n",
        "  if age <=12:\n",
        "    print(\"Please pay $5.\")\n",
        "  elif age<=18:\n",
        "    print(\"Please pay $7\")\n",
        "  else:\n",
        "    print(\"Please pay $12.\")\n",
        "else:\n",
        "  print(\"You cannot ride the rollercoaster :(\")\n"
      ],
      "metadata": {
        "colab": {
          "base_uri": "https://localhost:8080/"
        },
        "id": "dv0ZeR_zes5h",
        "outputId": "b51ebb71-c9d7-40ce-8c41-2ee9980ea00f"
      },
      "execution_count": null,
      "outputs": [
        {
          "output_type": "stream",
          "name": "stdout",
          "text": [
            "Welcome to the rollercoaster!\n",
            "What is your height in cm? 160\n",
            "You can ride the rollercoaster!\n",
            "What is your age?15\n",
            "Please pay $7\n"
          ]
        }
      ]
    },
    {
      "cell_type": "code",
      "source": [
        "#BMI CALCULATOR\n",
        "height = float(input(\"enter your height in m: \"))\n",
        "weight = float(input(\"enter your weight in kg: \"))\n",
        "# 🚨 Don't change the code above 👆\n",
        "\n",
        "#Write your code below this line 👇\n",
        "BMI=round(weight/(height*height))\n",
        "\n",
        "if BMI<18.5:\n",
        "    print(f'Your BMI is {BMI}, you are underweight.')\n",
        "elif 18.5<=BMI<25:\n",
        "    print(f'Your BMI is {BMI}, you have a normal weight.')\n",
        "elif 25<=BMI<30:\n",
        "    print(f'Your BMI is {BMI}, you are slightly overweight.')\n",
        "elif 30<=BMI<35:\n",
        "    print(f'Your BMI is {BMI}, you are obese.')\n",
        "else:\n",
        "    print(f'Your BMI is {BMI}, you are clinically obese.')"
      ],
      "metadata": {
        "id": "XJgGOuPbhq7b"
      },
      "execution_count": null,
      "outputs": []
    },
    {
      "cell_type": "code",
      "source": [
        "#Leap year calculator using elif statement of nested loop.\n",
        "year = int(input(\"Which year do you want to check? \"))\n",
        "# 🚨 Don't change the code above 👆\n",
        "\n",
        "#Write your code below this line 👇\n",
        "if year%4==0:\n",
        "    if year%400==0:\n",
        "        print(\"Leap year.\")\n",
        "    elif year%100==0:\n",
        "        print(\"Not leap year.\")\n",
        "    else:\n",
        "        print(\"Leap year.\")\n",
        "\n",
        "else:\n",
        "    print(\"Not leap year.\")\n"
      ],
      "metadata": {
        "id": "Zj4xhfrxhq8m"
      },
      "execution_count": null,
      "outputs": []
    },
    {
      "cell_type": "code",
      "source": [
        "print(\"Welcome to the Rollercoaster!\")\n",
        "height=int(input(\"What is your height in cm? \"))\n",
        "bill=0\n",
        "if height >= 120:\n",
        "  print(\"You can ride the rollercoaster!\")\n",
        "  age=int(input(\"What is your age? \"))\n",
        "  if age<12:\n",
        "    bill=5\n",
        "    print(\"Please pay %5.\")\n",
        "  elif age<=18:\n",
        "    bill=7\n",
        "    print(\"Please pay $7.\")\n",
        "  else:\n",
        "    bill=12\n",
        "    print(\"Please Pay $12.\")\n",
        "\n",
        "\n",
        "  photo=input(\"Do you want a photo taken? Y or N.\")\n",
        "  if photo ==\"Y\":\n",
        "    bill+=3\n",
        "\n",
        "\n",
        "  print(f\"Your final bill is {bill} $\")\n",
        "\n",
        "else:\n",
        "  print(\"Sorry, You have to be bit taller.\")"
      ],
      "metadata": {
        "colab": {
          "base_uri": "https://localhost:8080/"
        },
        "id": "8xaomHmPmBhj",
        "outputId": "9c3b852e-b654-455c-a2f1-d6edb1db0156"
      },
      "execution_count": null,
      "outputs": [
        {
          "output_type": "stream",
          "name": "stdout",
          "text": [
            "Welcome to the Rollercoaster!\n",
            "What is your height in cm? 150\n",
            "You can ride the rollercoaster!\n",
            "What is your age? 12\n",
            "Please pay $7.\n",
            "Do you want a photo taken? Y or N.Y\n",
            "Your final bill is 10\n"
          ]
        }
      ]
    },
    {
      "cell_type": "code",
      "source": [
        "#PIZZA BILL GENERATOR\n",
        "print(\"Welcome to Python Pizza Deliveries!\")\n",
        "size = input(\"What size pizza do you want? S, M, or L \")\n",
        "add_pepperoni = input(\"Do you want pepperoni? Y or N \")\n",
        "extra_cheese = input(\"Do you want extra cheese? Y or N \")\n",
        "# 🚨 Don't change the code above 👆\n",
        "\n",
        "#Write your code below this line 👇\n",
        "bill=0\n",
        "if size==\"S\":\n",
        "    bill=15\n",
        "    if add_pepperoni==\"Y\":\n",
        "        bill+=2\n",
        "    if extra_cheese==\"Y\":\n",
        "        bill+=1\n",
        "\n",
        "    print(f\"Your final bill is: ${bill}.\")\n",
        "elif size==\"M\":\n",
        "    bill=20\n",
        "    if add_pepperoni==\"Y\":\n",
        "        bill+=3\n",
        "    if extra_cheese==\"Y\":\n",
        "        bill+=1\n",
        "\n",
        "    print(f\"Your final bill is: ${bill}.\")\n",
        "elif size==\"L\":\n",
        "    bill=25\n",
        "    if add_pepperoni==\"Y\":\n",
        "        bill+=3\n",
        "    if extra_cheese==\"Y\":\n",
        "        bill+=1\n",
        "\n",
        "    print(f\"Your final bill is: ${bill}.\")\n",
        "\n",
        "\n",
        "\n"
      ],
      "metadata": {
        "id": "_bRM7jR0rzCY"
      },
      "execution_count": null,
      "outputs": []
    },
    {
      "cell_type": "code",
      "source": [
        "#or\n",
        "print(\"Welcome to Python Pizza Deliveries!\")\n",
        "size = input(\"What size pizza do you want? S, M, or L \")\n",
        "add_pepperoni = input(\"Do you want pepperoni? Y or N \")\n",
        "extra_cheese = input(\"Do you want extra cheese? Y or N \")\n",
        "# 🚨 Don't change the code above 👆\n",
        "\n",
        "#Write your code below this line 👇\n",
        "bill=0\n",
        "if size==\"S\":\n",
        "  bill+=15\n",
        "elif size==\"M\":\n",
        "  bill+=20\n",
        "else:\n",
        "  bill+=25\n",
        "\n",
        "if add_pepperoni==\"Y\":\n",
        "  if size==\"S\":\n",
        "    bill+=2\n",
        "  else:\n",
        "    bill+=3\n",
        "\n",
        "if extra_cheese==\"Y\":\n",
        "  bill+=1\n",
        "\n",
        "print(f\"Your final bill is ${bill}.\")"
      ],
      "metadata": {
        "colab": {
          "base_uri": "https://localhost:8080/"
        },
        "id": "ShJg01-UsXP_",
        "outputId": "cafd5ff9-3cee-4dd2-c43d-1f7ae57f5e4d"
      },
      "execution_count": null,
      "outputs": [
        {
          "output_type": "stream",
          "name": "stdout",
          "text": [
            "Welcome to Python Pizza Deliveries!\n",
            "What size pizza do you want? S, M, or L S\n",
            "Do you want pepperoni? Y or N N\n",
            "Do you want extra cheese? Y or N Y\n",
            "Your final bill is $16.\n"
          ]
        }
      ]
    },
    {
      "cell_type": "code",
      "source": [
        "# 🚨 Don't change the code below 👇\n",
        "print(\"Welcome to the Love Calculator!\")\n",
        "name1 = input(\"What is your name? \\n\")\n",
        "name2 = input(\"What is their name? \\n\")\n",
        "# 🚨 Don't change the code above 👆\n",
        "\n",
        "#Write your code below this line 👇\n",
        "name1=name1.lower()\n",
        "name2=name2.lower()\n",
        "name=name1+name2  #or name=name1.lower()+name2.lower()\n",
        "t=name.count(\"t\")\n",
        "r=name.count(\"r\")\n",
        "u=name.count(\"u\")\n",
        "e=name.count(\"e\")\n",
        "true=t+r+u+e\n",
        "l=name.count(\"l\")\n",
        "o=name.count(\"o\")\n",
        "v=name.count(\"v\")\n",
        "ee=name.count(\"e\")\n",
        "love=l+o+v+ee\n",
        "score=str(true)+str(love)\n",
        "score=int(score)\n",
        "\n",
        "if score<10 or score>90:\n",
        "    print(f\"Your score is {score}, you go together like coke and mentos.\")\n",
        "elif score>40 and score<50:\n",
        "    print(f\"Your score is {score}, you are alright together.\")\n",
        "else:\n",
        "    print(f\"Your score is {score}.\")\n"
      ],
      "metadata": {
        "colab": {
          "base_uri": "https://localhost:8080/"
        },
        "id": "bXZGRYxO1oIZ",
        "outputId": "1c43e9ce-2b08-4cee-c40d-fec85cf7cd8d"
      },
      "execution_count": null,
      "outputs": [
        {
          "output_type": "stream",
          "name": "stdout",
          "text": [
            "Welcome to the Love Calculator!\n",
            "What is your name? \n",
            "Vikrant\n",
            "What is their name? \n",
            "Chaitali\n",
            "Your score is 32.\n"
          ]
        }
      ]
    },
    {
      "cell_type": "code",
      "source": [
        "#Treasure Island\n",
        "print('''\n",
        "*******************************************************************************\n",
        "          |                   |                  |                     |\n",
        " _________|________________.=\"\"_;=.______________|_____________________|_______\n",
        "|                   |  ,-\"_,=\"\"     `\"=.|                  |\n",
        "|___________________|__\"=._o`\"-._        `\"=.______________|___________________\n",
        "          |                `\"=._o`\"=._      _`\"=._                     |\n",
        " _________|_____________________:=._o \"=._.\"_.-=\"'\"=.__________________|_______\n",
        "|                   |    __.--\" , ; `\"=._o.\" ,-\"\"\"-._ \".   |\n",
        "|___________________|_._\"  ,. .` ` `` ,  `\"-._\"-._   \". '__|___________________\n",
        "          |           |o`\"=._` , \"` `; .\". ,  \"-._\"-._; ;              |\n",
        " _________|___________| ;`-.o`\"=._; .\" ` '`.\"\\` . \"-._ /_______________|_______\n",
        "|                   | |o;    `\"-.o`\"=._``  '` \" ,__.--o;   |\n",
        "|___________________|_| ;     (#) `-.o `\"=.`_.--\"_o.-; ;___|___________________\n",
        "____/______/______/___|o;._    \"      `\".o|o_.--\"    ;o;____/______/______/____\n",
        "/______/______/______/_\"=._o--._        ; | ;        ; ;/______/______/______/_\n",
        "____/______/______/______/__\"=._o--._   ;o|o;     _._;o;____/______/______/____\n",
        "/______/______/______/______/____\"=._o._; | ;_.--\"o.--\"_/______/______/______/_\n",
        "____/______/______/______/______/_____\"=.o|o_.--\"\"___/______/______/______/____\n",
        "/______/______/______/______/______/______/______/______/______/______/_____ /\n",
        "*******************************************************************************\n",
        "''')\n",
        "print(\"Welcome to Treasure Island.\")\n",
        "print(\"Your mission is to find the treasure.\")\n",
        "\n",
        "#https://www.draw.io/?lightbox=1&highlight=0000ff&edit=_blank&layers=1&nav=1&title=Treasure%20Island%20Conditional.drawio#Uhttps%3A%2F%2Fdrive.google.com%2Fuc%3Fid%3D1oDe4ehjWZipYRsVfeAx2HyB7LCQ8_Fvi%26export%3Ddownload\n",
        "\n",
        "#Write your code below this line 👇\n",
        "go=input(\"You're at a cross road. Where do you want to go? left or right \")\n",
        "if go==\"left\":\n",
        "    print(\"You come to lake. There is an island in the middle of the lake.\")\n",
        "    wtd=input(\"Wait to wait or Swim to swim across\")\n",
        "    if wtd==\"wait\":\n",
        "        print(\"You arrive at the island unharred. There is a house with 3 doors. 'Red', 'Yellow' and 'Blue'. \"+\"Which colour you want to choose?\")\n",
        "        door=input(\"Which door to choose?\")\n",
        "        if door==\"Yellow\":\n",
        "            print(\"You Win!\")\n",
        "        elif door==\"Red\":\n",
        "            print(\"Burned by fire. Game Over.\")\n",
        "        elif door==\"Blue\":\n",
        "            print(\"Eaten by beasts. Game Over.\")\n",
        "        else:\n",
        "            print(\"Game Over.\")\n",
        "    else:\n",
        "        print(\"Attacked by trout. Game Over.\")\n",
        "else:\n",
        "    print(\"Fall into a hole. Game Over.\")"
      ],
      "metadata": {
        "colab": {
          "base_uri": "https://localhost:8080/"
        },
        "id": "x9FLmlcSip-q",
        "outputId": "88a0072b-9868-4219-9f29-82abce8b38f2"
      },
      "execution_count": null,
      "outputs": [
        {
          "output_type": "stream",
          "name": "stdout",
          "text": [
            "\n",
            "*******************************************************************************\n",
            "          |                   |                  |                     |\n",
            " _________|________________.=\"\"_;=.______________|_____________________|_______\n",
            "|                   |  ,-\"_,=\"\"     `\"=.|                  |\n",
            "|___________________|__\"=._o`\"-._        `\"=.______________|___________________\n",
            "          |                `\"=._o`\"=._      _`\"=._                     |\n",
            " _________|_____________________:=._o \"=._.\"_.-=\"'\"=.__________________|_______\n",
            "|                   |    __.--\" , ; `\"=._o.\" ,-\"\"\"-._ \".   |\n",
            "|___________________|_._\"  ,. .` ` `` ,  `\"-._\"-._   \". '__|___________________\n",
            "          |           |o`\"=._` , \"` `; .\". ,  \"-._\"-._; ;              |\n",
            " _________|___________| ;`-.o`\"=._; .\" ` '`.\"\\` . \"-._ /_______________|_______\n",
            "|                   | |o;    `\"-.o`\"=._``  '` \" ,__.--o;   |\n",
            "|___________________|_| ;     (#) `-.o `\"=.`_.--\"_o.-; ;___|___________________\n",
            "____/______/______/___|o;._    \"      `\".o|o_.--\"    ;o;____/______/______/____\n",
            "/______/______/______/_\"=._o--._        ; | ;        ; ;/______/______/______/_\n",
            "____/______/______/______/__\"=._o--._   ;o|o;     _._;o;____/______/______/____\n",
            "/______/______/______/______/____\"=._o._; | ;_.--\"o.--\"_/______/______/______/_\n",
            "____/______/______/______/______/_____\"=.o|o_.--\"\"___/______/______/______/____\n",
            "/______/______/______/______/______/______/______/______/______/______/_____ /\n",
            "*******************************************************************************\n",
            "\n",
            "Welcome to Treasure Island.\n",
            "Your mission is to find the treasure.\n",
            "You're at a cross road. Where do you want to go? left or right left\n",
            "You come to lake. There is an island in the middle of the lake.\n",
            "Wait to wait or Swim to swim acrosswait\n",
            "You arrive at the island unharred. There is a house with 3 doors. 'Red', 'Yellow' and 'Blue'. Which colour you want to choose?\n",
            "Which door to choose?Yellow\n",
            "You Win!\n"
          ]
        }
      ]
    },
    {
      "cell_type": "code",
      "source": [
        "#Randomisation\n",
        "import random\n",
        "#randint(a,b) generates the random integer between a and b including a and b\n",
        "rand_integer=random.randint(1,10)\n",
        "print(rand_integer)\n",
        "#use ctrl+/ to comment multiple lines of code by single click."
      ],
      "metadata": {
        "colab": {
          "base_uri": "https://localhost:8080/"
        },
        "id": "jNjUzmhHnxi2",
        "outputId": "b4ab1580-c716-4df5-f578-6cf61e2eebda"
      },
      "execution_count": 9,
      "outputs": [
        {
          "output_type": "stream",
          "name": "stdout",
          "text": [
            "1\n"
          ]
        }
      ]
    },
    {
      "cell_type": "code",
      "source": [
        "#random float\n",
        "random_float=random.random()\n",
        "print(random_float)\n",
        "\n",
        "#float between specific numbers\n"
      ],
      "metadata": {
        "colab": {
          "base_uri": "https://localhost:8080/"
        },
        "id": "cQmehtJ4qeIP",
        "outputId": "2e237de5-001a-420d-e751-ab4536c803de"
      },
      "execution_count": 10,
      "outputs": [
        {
          "output_type": "stream",
          "name": "stdout",
          "text": [
            "0.451624968864886\n"
          ]
        }
      ]
    },
    {
      "cell_type": "code",
      "source": [
        "#Head or Tails\n",
        "#Remember to use the random module\n",
        "#Hint: Remember to import the random module here at the top of the file. 🎲\n",
        "\n",
        "#Write the rest of your code below this line 👇\n",
        "import random\n",
        "ns=random.randint(0,1)\n",
        "if ns==0:\n",
        "    print(\"Heads\")\n",
        "else:\n",
        "    print(\"Tails\")"
      ],
      "metadata": {
        "colab": {
          "base_uri": "https://localhost:8080/"
        },
        "id": "7W_BwyIHsGwQ",
        "outputId": "48991754-a6a6-4bc1-f6ca-1da7f2b0fda5"
      },
      "execution_count": 12,
      "outputs": [
        {
          "output_type": "stream",
          "name": "stdout",
          "text": [
            "Tails\n"
          ]
        }
      ]
    },
    {
      "cell_type": "code",
      "source": [
        "#Lists\n",
        "Districts_of_Maharashtra=[\"Nandurbar\",\"Dhule\",\"Jalgaon\"]\n",
        "Districts_of_Maharashtra[-1]\n",
        "Districts_of_Maharashtra[1]=\"Dhude\"\n",
        "Districts_of_Maharashtra\n",
        "Districts_of_Maharashtra.append(\"Pune\")\n",
        "Districts_of_Maharashtra\n",
        "Districts_of_Maharashtra.extend([\"Nagar\",\"Yavatmal\"])\n",
        "Districts_of_Maharashtra"
      ],
      "metadata": {
        "colab": {
          "base_uri": "https://localhost:8080/"
        },
        "id": "YHiZCdE5tIZR",
        "outputId": "f5c016ad-9405-4320-accd-aa1ab67a8df7"
      },
      "execution_count": 13,
      "outputs": [
        {
          "output_type": "execute_result",
          "data": {
            "text/plain": [
              "['Nandurbar', 'Dhude', 'Jalgaon', 'Pune', 'Nagar', 'Yavatmal']"
            ]
          },
          "metadata": {},
          "execution_count": 13
        }
      ]
    },
    {
      "cell_type": "code",
      "source": [
        "#Banker's Roullete\n",
        "# Import the random module here\n",
        "\n",
        "# Split string method\n",
        "names_string = input(\"Give me everybody's names, separated by a comma. \")\n",
        "names = names_string.split(\", \")\n",
        "# 🚨 Don't change the code above 👆\n",
        "\n",
        "#Write your code below this line 👇\n",
        "import random\n",
        "r=random.randint(0,len(names)-1)\n",
        "person=names[r]\n",
        "print(f'{person} is going to buy the meal today!')"
      ],
      "metadata": {
        "colab": {
          "base_uri": "https://localhost:8080/"
        },
        "id": "kTn8bGKew9tS",
        "outputId": "3b73bf57-98be-43f8-9f7c-4f1872c31501"
      },
      "execution_count": 19,
      "outputs": [
        {
          "output_type": "stream",
          "name": "stdout",
          "text": [
            "Give me everybody's names, separated by a comma. vik, jay, hem\n",
            "hem is going to buy the meal today!\n"
          ]
        }
      ]
    },
    {
      "cell_type": "code",
      "source": [
        "# 🚨 Don't change the code below 👇\n",
        "row1 = [\"⬜️\",\"️⬜️\",\"️⬜️\"]\n",
        "row2 = [\"⬜️\",\"⬜️\",\"️⬜️\"]\n",
        "row3 = [\"⬜️️\",\"⬜️️\",\"⬜️️\"]\n",
        "map = [row1, row2, row3]\n",
        "print(f\"{row1}\\n{row2}\\n{row3}\")\n",
        "position = input(\"Where do you want to put the treasure? \")\n",
        "# 🚨 Don't change the code above 👆\n",
        "\n",
        "#Write your code below this row 👇\n",
        "\n",
        "horizontal=int(position[0])\n",
        "vertical=int(position[1])\n",
        "selected_row=map[vertical-1]\n",
        "selected_row[horizontal-1]=\"X\"\n",
        "\n",
        "\n",
        "\n",
        "\n",
        "\n",
        "#Write your code above this row 👆\n",
        "\n",
        "# 🚨 Don't change the code below 👇\n",
        "print(f\"{row1}\\n{row2}\\n{row3}\")\n",
        "\n"
      ],
      "metadata": {
        "id": "ZKtQMrufsT-W"
      },
      "execution_count": null,
      "outputs": []
    },
    {
      "cell_type": "code",
      "source": [
        "import random\n",
        "user_choice=int(input(\"What is your choice, type 0 for stone, type 1 for paper, type 2 for scissors\"))\n",
        "computer_choice=random.randint(0,2)\n",
        "if user_choice==computer_choice:\n",
        "  print(\"Game Draw!\")\n",
        "elif user_choice==0 and computer_choice==1:\n",
        "  print(\"Computer won!\")\n",
        "elif user_choice==0 and computer_choice==2:\n",
        "  print(\"User won!\")\n",
        "elif user_choice==1 and computer_choice==0:\n",
        "  print(\"User won!\")\n",
        "elif user_choice==1 and computer_choice==2:\n",
        "  print(\"Computer won!\")\n",
        "elif user_choice==2 and computer_choice==0:\n",
        "  print(\"Computer won!\")\n",
        "elif user_choice==2 and computer_choice==1:\n",
        "  print(\"User won!\")\n",
        "else:\n",
        "  print(\"Invalid Number, You lose!\")"
      ],
      "metadata": {
        "id": "JQbcFgKQw9uU",
        "colab": {
          "base_uri": "https://localhost:8080/"
        },
        "outputId": "90255d14-0572-4f29-bc68-f98fcd73f168"
      },
      "execution_count": 20,
      "outputs": [
        {
          "output_type": "stream",
          "name": "stdout",
          "text": [
            "What is your choice, type 0 for stone, type 1 for paper, type 2 for scissors2\n",
            "Game Draw!\n"
          ]
        }
      ]
    },
    {
      "cell_type": "code",
      "source": [
        "#Loop\n",
        "#for item in list:\n",
        "fruits=[\"apple\",\"Peach\",\"pear\"]\n",
        "for fruit in fruits:\n",
        "  print(fruit)\n",
        "  print(fruit+\" Pie\")\n",
        "  print(fruits)"
      ],
      "metadata": {
        "colab": {
          "base_uri": "https://localhost:8080/"
        },
        "id": "_W4NMByo0Fd0",
        "outputId": "2764b03a-321c-4129-e75f-bdde8b943f42"
      },
      "execution_count": 23,
      "outputs": [
        {
          "output_type": "stream",
          "name": "stdout",
          "text": [
            "apple\n",
            "apple Pie\n",
            "['apple', 'Peach', 'pear']\n",
            "Peach\n",
            "Peach Pie\n",
            "['apple', 'Peach', 'pear']\n",
            "pear\n",
            "pear Pie\n",
            "['apple', 'Peach', 'pear']\n"
          ]
        }
      ]
    },
    {
      "cell_type": "code",
      "source": [],
      "metadata": {
        "id": "ZNjBwAYm328G"
      },
      "execution_count": null,
      "outputs": []
    }
  ]
}